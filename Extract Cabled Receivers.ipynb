{
 "cells": [
  {
   "cell_type": "markdown",
   "metadata": {},
   "source": [
    "# Extract Cabled Receiver Data\n",
    "\n",
    "### What you'll need before starting:\n",
    "* A folder of comma-separated .txt files of cabled receiver data metadata to be uploaded\n",
    "* Specify the database_conn_string.auth file in the ipython-utilities/dbtool folder to connect to the database you want to connect and insert the data into\n",
    "\n",
    "Run the script below to set up the database connection."
   ]
  },
  {
   "cell_type": "code",
   "execution_count": null,
   "metadata": {
    "collapsed": false,
    "scrolled": true
   },
   "outputs": [],
   "source": [
    "# Imports. Run this every time.\n",
    "import dbtools as dbt \n",
    "import pprint\n",
    "from dbtools.connect_db import get_engine, test_engine_connection\n",
    "from IPython.display import display, HTML\n",
    "from ipywidgets import *\n",
    "from plottools.map_drawer import draw_map\n",
    "from dbtools.load_styles import load_pygment_style\n",
    "from dbtools.common import display_sql, display_python\n",
    "\n",
    "load_pygment_style('native')\n",
    "# Make a DB connection\n",
    "engine = get_engine() # use defaults in dbtools/database_conn_string.auth\n",
    "test_engine_connection(engine)"
   ]
  },
  {
   "cell_type": "markdown",
   "metadata": {},
   "source": [
    "# Validate environmental receiver data\n",
    "\n",
    "Enter the directory path of the folder of data files and the institution code below. Run the cell below to add the data collected by the receivers whenever a detection was absent to the database."
   ]
  },
  {
   "cell_type": "code",
   "execution_count": null,
   "metadata": {
    "collapsed": false,
    "scrolled": true
   },
   "outputs": [],
   "source": [
    "import dbtools.extract_cabled_receivers as ecr\n",
    "import pandas as pd\n",
    "from os import listdir\n",
    "from os.path import isfile, join\n",
    "\n",
    "directorypath = '/Users/jphillips/Desktop/boosbi_data'\n",
    "headers = ['receiver', 'sequence', 'datetime', 'info', 'detection_count', 'ping_count', 'line_voltage', 'battery_voltage', 'battery_used', 'current_consumption', 'temperature', 'detection_memory_used', 'raw_memory_used', 'tilt_information', 'hex']\n",
    "\n",
    "df2 = pd.DataFrame(columns=headers)\n",
    "\n",
    "textfiles = []\n",
    "for file in os.listdir(\"/{0}\".format(directorypath)):\n",
    "    if file.endswith(\".txt\"):\n",
    "        textfiles.append(os.path.join(\"/{0}\".format(directorypath), file))\n",
    "        \n",
    "print \"Please wait for operation to finish \\n\"\n",
    "for entry in textfiles:\n",
    "    df2 = df2.append(ecr.check_detection_data_integrity(engine, entry, 'environment')) \n",
    "tablename = ecr.create_new_detection_tablename(engine, df2, 'environment')\n",
    "\n",
    "#Enter in the code of the institution that the data belongs to\n",
    "institutioncode = 'boosbi'\n",
    "\n",
    "print \"finished\""
   ]
  },
  {
   "cell_type": "markdown",
   "metadata": {},
   "source": [
    "# Add environmental data to database\n",
    "\n",
    "Run the following cell to add the environmental data recorded by the receivers to the database specified in the database_conn_string.auth file. It will create a table in the c_environmental_data_yymm_to_yymm_txt format."
   ]
  },
  {
   "cell_type": "code",
   "execution_count": null,
   "metadata": {
    "collapsed": false
   },
   "outputs": [],
   "source": [
    "import dbtools.extract_cabled_receivers as ecr\n",
    "\n",
    "print ecr.insert_environmental_data_into_database(df2, engine, tablename, institutioncode, 10000)"
   ]
  },
  {
   "cell_type": "markdown",
   "metadata": {},
   "source": [
    "# Validate the detection data\n",
    "\n",
    "In the cell below, enter in the path to the directory where the receiver data files are located, the institution code that the data belongs to, and then run it to allow the script to process the data."
   ]
  },
  {
   "cell_type": "code",
   "execution_count": null,
   "metadata": {
    "collapsed": false
   },
   "outputs": [],
   "source": [
    "import dbtools.extract_cabled_receivers as ecr\n",
    "import pandas as pd\n",
    "from os import listdir\n",
    "from os.path import isfile, join\n",
    "    \n",
    "# Insert the paths to your files in the following format as shown in the following example:\n",
    "# filepaths = ['/Users/name/file1.txt', '/Users/name/file2.txt']\n",
    "# Note that this tool can only take in .txt files currently\n",
    "directorypath = '/Users/jphillips/Desktop/boosbi_data'\n",
    "\n",
    "detection_headers = ['receiver', 'sequence', 'datetime', 'sensor_tag', 'A2D', 'hex']\n",
    "\n",
    "df = pd.DataFrame(columns=detection_headers)\n",
    "\n",
    "textfiles = []\n",
    "for file in os.listdir(\"/{0}\".format(directorypath)):\n",
    "    if file.endswith(\".txt\"):\n",
    "        textfiles.append(os.path.join(\"/{0}\".format(directorypath), file))\n",
    "        \n",
    "print \"Please wait for operation to finish \\n\"\n",
    "for entry in textfiles:\n",
    "    df = df.append(ecr.check_detection_data_integrity(engine, entry, 'detection'))  \n",
    "tablename = ecr.create_new_detection_tablename(engine, df2, 'detection')\n",
    "\n",
    "#Enter in the code of the institution that the data belongs to\n",
    "institutioncode = 'boosbi'\n",
    "\n",
    "print \"finished\""
   ]
  },
  {
   "cell_type": "markdown",
   "metadata": {},
   "source": [
    "# Add detections to database\n",
    "\n",
    "The following cell will take the detections that the script above parsed and add them to the database specified in the database_conn_string.auth file. It will create a table based on the dates of the detections found in a c_detections_yymm_to_yymm_txt format."
   ]
  },
  {
   "cell_type": "code",
   "execution_count": null,
   "metadata": {
    "collapsed": false,
    "scrolled": true
   },
   "outputs": [],
   "source": [
    "import dbtools.extract_cabled_receivers as ecr\n",
    "\n",
    "print ecr.insert_detections_into_database(df, engine, tablename, institutioncode, 10000)"
   ]
  }
 ],
 "metadata": {
  "kernelspec": {
   "display_name": "Python 2",
   "language": "python",
   "name": "python2"
  },
  "language_info": {
   "codemirror_mode": {
    "name": "ipython",
    "version": 2
   },
   "file_extension": ".py",
   "mimetype": "text/x-python",
   "name": "python",
   "nbconvert_exporter": "python",
   "pygments_lexer": "ipython2",
   "version": "2.7.11"
  }
 },
 "nbformat": 4,
 "nbformat_minor": 0
}
